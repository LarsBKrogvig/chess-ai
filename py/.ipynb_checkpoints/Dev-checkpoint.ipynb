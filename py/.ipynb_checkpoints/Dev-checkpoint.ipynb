{
 "cells": [
  {
   "cell_type": "code",
   "execution_count": 144,
   "metadata": {
    "collapsed": false
   },
   "outputs": [],
   "source": [
    "import sys\n",
    "import os\n",
    "import json\n",
    "import chess\n",
    "from time import sleep, time\n",
    "from datetime import datetime, timedelta\n",
    "from random import random, choice\n",
    "from IPython.display import clear_output\n",
    "\n",
    "# Bots\n",
    "import random_bot\n",
    "#import final_bot\n",
    "import basic_bot_1_1\n",
    "\n",
    "dev = True\n",
    "\n",
    "### Functions\n",
    "\n",
    "def print_time(to_print, \n",
    "               t=0, \n",
    "               clear=True):\n",
    "    if clear: clear_output()\n",
    "    print to_print, '\\n'\n",
    "    sys.stdout.flush()\n",
    "    sleep(t)\n",
    "    pass\n",
    "\n",
    "def get_config(board, me):\n",
    "    cmap = {\n",
    "        ( 'WIN', 'WHITE'):  'W_win',\n",
    "        ('DRAW', 'WHITE'): 'W_draw',\n",
    "        ('LOSE', 'WHITE'): 'W_lose',\n",
    "        ( 'WIN', 'BLACK'):  'B_win',\n",
    "        ('DRAW', 'BLACK'): 'B_draw',\n",
    "        ('LOSE', 'BLACK'): 'B_lose'}\n",
    "\n",
    "    result = None\n",
    "    if board.is_checkmate():\n",
    "        if not board.turn == me:\n",
    "            result = 'WIN'\n",
    "        else:\n",
    "            result = 'LOSE'\n",
    "    else:\n",
    "        result = 'DRAW'\n",
    "\n",
    "    return cmap[(result,turn_color[me])]\n",
    "\n",
    "def get_status(board):\n",
    "    result = \"\"\n",
    "    if board.is_game_over():\n",
    "        if board.is_checkmate(): result = 'Checkmate! ' + turn_color[not board.turn] + ' wins'\n",
    "        if board.is_stalemate(): result = 'Stalemate! DRAW'\n",
    "        if board.is_insufficient_material(): result = 'Insufficient material. DRAW', \n",
    "        if board.is_seventyfive_moves(): result = 'Seventyfive moves without capture or pawn move. DRAW'\n",
    "        if board.is_fivefold_repetition(): result = 'Fivefold repetition. DRAW'\n",
    "    else:\n",
    "        result = turn_color[board.turn], 'to move'\n",
    "    return result\n",
    "\n",
    "### Parameters\n",
    "\n",
    "turn_color = {\n",
    "    True:'WHITE',\n",
    "    False:'BLACK',\n",
    "    None: None\n",
    "}\n",
    "\n",
    "def new_state():\n",
    "    state = {\n",
    "        'played_since': '',\n",
    "        'game_desc':    '',\n",
    "        'fen':          '',\n",
    "        'turn_desc':    '',\n",
    "        'W_win':         0,\n",
    "        'W_draw':        0,\n",
    "        'W_lose':        0,\n",
    "        'B_win':         0,\n",
    "        'B_draw':        0,\n",
    "        'B_lose' :       0\n",
    "    }\n",
    "    return state\n",
    "\n",
    "def init_state():\n",
    "    state = None\n",
    "    if os.path.exists('../html/state'):\n",
    "        with open('../html/state', 'r') as f:\n",
    "            state = json.loads(f.read())\n",
    "    if not state:\n",
    "        state = new_state()\n",
    "    return state\n",
    "\n",
    "def write_state(state):\n",
    "    with open('../html/state', 'w') as f:\n",
    "        f.write(json.dumps(state, indent=4))\n",
    "    pass\n",
    "\n",
    "state = init_state()\n",
    "\n",
    "# The Arena\n",
    "me_bot = basic_bot_1_1\n",
    "he_bot = random_bot\n",
    "players = [chess.WHITE, chess.BLACK]\n",
    "min_turn_time = 0.1\n",
    "\n",
    "# In[ ]:\n",
    "if not state['played_since']:\n",
    "    state['played_since'] = (datetime.fromtimestamp(time())+timedelta(hours=1)).strftime('%Y-%m-%d %H:%M:%S')\n"
   ]
  },
  {
   "cell_type": "code",
   "execution_count": 233,
   "metadata": {
    "collapsed": false
   },
   "outputs": [
    {
     "name": "stdout",
     "output_type": "stream",
     "text": [
      "r n b q k b n r\n",
      "p p p p p p p p\n",
      ". . . . . . . .\n",
      ". . . . . . . .\n",
      "P . . . . . . .\n",
      ". . . . . . . .\n",
      ". P P P P P P P\n",
      "R N B Q K B N R \n",
      "\n",
      "{u'B_draw': 0, u'fen': 'rnbqkbnr/pppppppp/8/8/8/8/PPPPPPPP/RNBQKBNR w KQkq - 0 1', u'W_win': 4, u'played_since': u'2015-12-19 22:33:51', u'turn_desc': '1 - His move, WHITE', u'B_lose': 0, u'W_lose': 0, u'B_win': 3, u'W_draw': 0, u'game_desc': 'Bot plays BLACK, WHITE is random\\n'}\n"
     ]
    },
    {
     "ename": "TypeError",
     "evalue": "'Move' object is not callable",
     "output_type": "error",
     "traceback": [
      "\u001b[0;31m---------------------------------------------------------------------------\u001b[0m",
      "\u001b[0;31mTypeError\u001b[0m                                 Traceback (most recent call last)",
      "\u001b[0;32m<ipython-input-233-458b1c150cd3>\u001b[0m in \u001b[0;36m<module>\u001b[0;34m()\u001b[0m\n\u001b[1;32m     19\u001b[0m         \u001b[0;32mif\u001b[0m \u001b[0mboard\u001b[0m\u001b[0;34m.\u001b[0m\u001b[0mturn\u001b[0m \u001b[0;34m==\u001b[0m \u001b[0mme\u001b[0m\u001b[0;34m:\u001b[0m\u001b[0;34m\u001b[0m\u001b[0m\n\u001b[1;32m     20\u001b[0m             \u001b[0mstate\u001b[0m\u001b[0;34m[\u001b[0m\u001b[0;34m'turn_desc'\u001b[0m\u001b[0;34m]\u001b[0m \u001b[0;34m=\u001b[0m \u001b[0mstr\u001b[0m\u001b[0;34m(\u001b[0m\u001b[0;36m1\u001b[0m\u001b[0;34m+\u001b[0m\u001b[0mturn\u001b[0m\u001b[0;34m/\u001b[0m\u001b[0;36m2\u001b[0m\u001b[0;34m)\u001b[0m \u001b[0;34m+\u001b[0m \u001b[0;34m' - My move, '\u001b[0m \u001b[0;34m+\u001b[0m \u001b[0mturn_color\u001b[0m\u001b[0;34m[\u001b[0m\u001b[0mboard\u001b[0m\u001b[0;34m.\u001b[0m\u001b[0mturn\u001b[0m\u001b[0;34m]\u001b[0m\u001b[0;34m\u001b[0m\u001b[0m\n\u001b[0;32m---> 21\u001b[0;31m             \u001b[0mmove\u001b[0m \u001b[0;34m=\u001b[0m \u001b[0mmove\u001b[0m\u001b[0;34m(\u001b[0m\u001b[0mboard\u001b[0m\u001b[0;34m)\u001b[0m \u001b[0;31m# My move!\u001b[0m\u001b[0;34m\u001b[0m\u001b[0m\n\u001b[0m\u001b[1;32m     22\u001b[0m         \u001b[0;32melse\u001b[0m\u001b[0;34m:\u001b[0m\u001b[0;34m\u001b[0m\u001b[0m\n\u001b[1;32m     23\u001b[0m             \u001b[0mstate\u001b[0m\u001b[0;34m[\u001b[0m\u001b[0;34m'turn_desc'\u001b[0m\u001b[0;34m]\u001b[0m \u001b[0;34m=\u001b[0m \u001b[0mstr\u001b[0m\u001b[0;34m(\u001b[0m\u001b[0;36m1\u001b[0m\u001b[0;34m+\u001b[0m\u001b[0mturn\u001b[0m\u001b[0;34m/\u001b[0m\u001b[0;36m2\u001b[0m\u001b[0;34m)\u001b[0m \u001b[0;34m+\u001b[0m \u001b[0;34m' - His move, '\u001b[0m \u001b[0;34m+\u001b[0m \u001b[0mturn_color\u001b[0m\u001b[0;34m[\u001b[0m\u001b[0mboard\u001b[0m\u001b[0;34m.\u001b[0m\u001b[0mturn\u001b[0m\u001b[0;34m]\u001b[0m\u001b[0;34m\u001b[0m\u001b[0m\n",
      "\u001b[0;31mTypeError\u001b[0m: 'Move' object is not callable"
     ]
    }
   ],
   "source": [
    "while True:\n",
    "    \n",
    "    board = chess.Board() # Set up the board\n",
    "    me    = choice(players)  # My color\n",
    "    turn  = 0\n",
    "\n",
    "    cpu_time = {chess.WHITE: 0, chess.BLACK: 0}\n",
    "\n",
    "    state['game_desc'] = 'Bot plays ' + turn_color[me] + ', ' + turn_color[not me] + ' is random\\n'\n",
    "        \n",
    "    while not board.is_game_over():\n",
    "        \n",
    "        t0 = time()\n",
    "        turn+=1\n",
    "\n",
    "        state['fen'] = board.fen()\n",
    "        \n",
    "        tt = time()\n",
    "        if board.turn == me:\n",
    "            state['turn_desc'] = str(1+turn/2) + ' - My move, ' + turn_color[board.turn]\n",
    "            move = me_bot.move(board) # My move!\n",
    "        else:\n",
    "            state['turn_desc'] = str(1+turn/2) + ' - His move, ' + turn_color[board.turn]\n",
    "            move = he_bot.move(board) # My opponent's move\n",
    "        ct = time() - tt\n",
    "        cpu_time[board.turn] += ct\n",
    "\n",
    "        board.push(move) # Make the move\n",
    "        \n",
    "        if dev: \n",
    "            print_time(board)\n",
    "            print state\n",
    "            sys.stdout.flush()\n",
    "\n",
    "        t1 = time()\n",
    "        if t1-t0 < min_turn_time:\n",
    "            sleep(min_turn_time - (t1-t0))\n",
    "\n",
    "        write_state(state)\n",
    "    \n",
    "    state['fen'] = board.fen()\n",
    "    state['game_desc'] = get_status(board)\n",
    "\n",
    "    result = None\n",
    "    if board.is_checkmate(): \n",
    "        result = turn_color[not board.turn]\n",
    "\n",
    "    state[get_config(board, me)] += 1\n",
    "\n",
    "    write_state(state)\n",
    "\n",
    "    log_entry = {\n",
    "        'move_stack': ','.join([str(move) for move in board.move_stack]),\n",
    "        'winner': turn_color[not board.turn] if board.is_checkmate() else None,\n",
    "        'WHITE': {\n",
    "            'bot': me_bot.name() if me == chess.WHITE else he_bot.name(),\n",
    "            'cpu_time': cpu_time[chess.WHITE]\n",
    "            },\n",
    "        'BLACK': {\n",
    "            'bot': me_bot.name() if me == chess.BLACK else he_bot.name(),\n",
    "            'cpu_time': cpu_time[chess.BLACK]\n",
    "            },\n",
    "        }\n",
    "    \n",
    "    #with open('log_entry') as f:\n",
    "    #    f.write(json.dumps(log_entry, separators=(',', ': ')))\n",
    "    #    write_command = 's3cmd put log_entry %i s3://larsbk/%s/%s/%s/%i' % (i,\n",
    "    #                                                                        log_entry[winner],\n",
    "    #                                                                        log_entry[not loser],\n",
    "    #                                                                        color,i)\n",
    "    #\n",
    "    #\n",
    "    #write_command = 's3cmd put'\n",
    "    #    \n",
    "    sleep(8)\n",
    "\n"
   ]
  },
  {
   "cell_type": "code",
   "execution_count": 175,
   "metadata": {
    "collapsed": false
   },
   "outputs": [],
   "source": [
    "value_piece = {\n",
    "    chess.PAWN:   1.0,\n",
    "    chess.KNIGHT: 2.9,\n",
    "    chess.BISHOP: 3.1,\n",
    "    chess.ROOK:   5.0,\n",
    "    chess.QUEEN:  9.0,\n",
    "    chess.KING:   0.0\n",
    "}\n",
    "\n",
    "f = 1/6.\n",
    "w = [[1,1,1,1,1,1,1,1],\n",
    "     [1,2,2,2,2,2,2,1],\n",
    "     [1,2,3,3,3,3,2,1],\n",
    "     [1,2,3,5,5,3,2,1],\n",
    "     [1,2,3,5,5,3,2,1],\n",
    "     [1,2,3,3,3,3,2,1],\n",
    "     [1,2,2,2,2,2,2,1],\n",
    "     [1,1,1,1,1,1,1,1]]\n",
    "\n",
    "square_importance = {}\n",
    "for i,r in enumerate(w):\n",
    "    for j,c in enumerate(r):\n",
    "        square_importance[chess.square(i,j)] = f*((c-1)/(5.-1))"
   ]
  },
  {
   "cell_type": "code",
   "execution_count": 165,
   "metadata": {
    "collapsed": true
   },
   "outputs": [],
   "source": [
    "\n",
    "\n",
    "def eval_board(board):\n",
    "    \n",
    "    if board.is_game_over():\n",
    "        if board.is_checkmate(): \n",
    "            result = -1 * (int(board.turn) - int(not board.turn)) * float('inf')\n",
    "        else:\n",
    "            result = 0\n",
    "    else:\n",
    "        result = eval_player(board, chess.WHITE) - eval_player(board, chess.BLACK)\n",
    "        \n",
    "    return result\n",
    "\n",
    "def eval_player(board, player):\n",
    "    \n",
    "    score_material = 0\n",
    "    score_presence = 0\n",
    "    score_position = 0\n",
    "    \n",
    "    for piece_type in xrange(1,7):\n",
    "        for square in board.pieces(piece_type, player):\n",
    "            \n",
    "            score_material += value_piece[piece_type]\n",
    "            score_presence += square_importance[square]\n",
    "        \n",
    "        for square in board.pieces(piece_type, not player):\n",
    "            \n",
    "            attackers = sorted([value_piece[board.piece_type_at(s)] for s in board.attackers(board.turn, square)])\n",
    "            defenders = sorted([value_piece[board.piece_type_at(s)] for s in board.attackers(not board.turn, square)])\n",
    "            \n",
    "            defendant = value_piece[piece_type]\n",
    "            gain = 0\n",
    "            while attackers:\n",
    "                gain += defendant\n",
    "                if defenders:\n",
    "                    gain -= attackers.pop(0)\n",
    "                    defendand = defenders.pop(0)\n",
    "                else: \n",
    "                    break\n",
    "                    \n",
    "            score_position += max(0, (player==board.turn) * gain)\n",
    "\n",
    "    return score_material + score_presence + score_position"
   ]
  },
  {
   "cell_type": "code",
   "execution_count": 232,
   "metadata": {
    "collapsed": false
   },
   "outputs": [],
   "source": [
    "def move(board, show=False):\n",
    "    tree = build_tree(board)\n",
    "    result = parse_tree(tree)\n",
    "    return result[0].pop(0)\n",
    "\n",
    "def board_push(board, move):\n",
    "    new_board = board.copy()\n",
    "    new_board.push(move)\n",
    "    return new_board\n",
    "\n",
    "def build_tree(root_board, halfmove_depth=1, limit_halfmove_depth=2):\n",
    "\n",
    "    if halfmove_depth == limit_halfmove_depth:\n",
    "        return {root_board.fen(): [(move, board_push(root_board, move).fen()) for move in root_board.legal_moves]}\n",
    "    else:\n",
    "        return {root_board.fen(): [(move, build_tree(board_push(root_board, move),\n",
    "                                                     halfmove_depth=halfmove_depth+1,\n",
    "                                                     limit_halfmove_depth=limit_halfmove_depth)) for move in root_board.legal_moves]}\n",
    "    pass\n",
    "\n",
    "def parse_tree(tree):\n",
    "    ans = _parse_tree(tree)\n",
    "    return (ans[1:][::-1],ans[0])\n",
    "\n",
    "def _parse_tree(tree):\n",
    "\n",
    "    root_board = chess.Board(tree.keys().pop())\n",
    "    sign = int(root_board.turn) - int(not root_board.turn)\n",
    "\n",
    "    if tree.values().pop():\n",
    "        movelist = tree.values().pop()\n",
    "        if type(movelist.pop()[1])==str:\n",
    "            return list(max([(sign*eval_board(chess.Board(fen)),move) for (move,fen) in movelist]))\n",
    "        else:\n",
    "            ans = max([(-1*t[0],t[1:]) for t in [_parse_tree(subtree)+[move] for (move, subtree) in movelist]])\n",
    "            return [ans[0]]+ans[1]\n",
    "    else:\n",
    "        return list((-sign * float('inf'), move))\n",
    "    pass"
   ]
  },
  {
   "cell_type": "code",
   "execution_count": 228,
   "metadata": {
    "collapsed": true
   },
   "outputs": [],
   "source": [
    "board = chess.Board()\n",
    "root_board = board\n",
    "moves = [move for move in board.legal_moves]"
   ]
  },
  {
   "cell_type": "code",
   "execution_count": 229,
   "metadata": {
    "collapsed": false
   },
   "outputs": [],
   "source": [
    "tree = build_tree(board)"
   ]
  },
  {
   "cell_type": "code",
   "execution_count": 230,
   "metadata": {
    "collapsed": false
   },
   "outputs": [],
   "source": [
    "#tree.values()"
   ]
  },
  {
   "cell_type": "code",
   "execution_count": 231,
   "metadata": {
    "collapsed": false
   },
   "outputs": [
    {
     "data": {
      "text/plain": [
       "([Move.from_uci('e2e4'), Move.from_uci('e7e5')], 0.0)"
      ]
     },
     "execution_count": 231,
     "metadata": {},
     "output_type": "execute_result"
    }
   ],
   "source": [
    "parse_tree(tree)"
   ]
  },
  {
   "cell_type": "code",
   "execution_count": 178,
   "metadata": {
    "collapsed": false
   },
   "outputs": [
    {
     "data": {
      "text/plain": [
       "Board('rnbqkbnr/pppppppp/8/8/8/8/PPPPPPPP/RNBQKBNR w KQkq - 0 1')"
      ]
     },
     "execution_count": 178,
     "metadata": {},
     "output_type": "execute_result"
    }
   ],
   "source": [
    "board"
   ]
  },
  {
   "cell_type": "code",
   "execution_count": 176,
   "metadata": {
    "collapsed": false
   },
   "outputs": [
    {
     "data": {
      "text/plain": [
       "{1: 1.0, 2: 2.9, 3: 3.1, 4: 5.0, 5: 9.0, 6: 0.0}"
      ]
     },
     "execution_count": 176,
     "metadata": {},
     "output_type": "execute_result"
    }
   ],
   "source": [
    "value_piece"
   ]
  },
  {
   "cell_type": "code",
   "execution_count": 121,
   "metadata": {
    "collapsed": false
   },
   "outputs": [],
   "source": [
    "a = {1: []}\n",
    "if a.values().pop(): print \"ja\""
   ]
  },
  {
   "cell_type": "code",
   "execution_count": 126,
   "metadata": {
    "collapsed": false
   },
   "outputs": [
    {
     "name": "stdout",
     "output_type": "stream",
     "text": [
      "r n b q k b n r\n",
      "p p p p p p p p\n",
      ". . . . . . . .\n",
      ". . . . . . . .\n",
      ". . . . . . . .\n",
      ". . . . . . . .\n",
      "P P P P P P P P\n",
      "R N B Q K B N R\n"
     ]
    }
   ],
   "source": [
    "print chess.Board(tree.keys().pop())"
   ]
  },
  {
   "cell_type": "code",
   "execution_count": null,
   "metadata": {
    "collapsed": true
   },
   "outputs": [],
   "source": []
  }
 ],
 "metadata": {
  "kernelspec": {
   "display_name": "Python 2",
   "language": "python",
   "name": "python2"
  },
  "language_info": {
   "codemirror_mode": {
    "name": "ipython",
    "version": 2
   },
   "file_extension": ".py",
   "mimetype": "text/x-python",
   "name": "python",
   "nbconvert_exporter": "python",
   "pygments_lexer": "ipython2",
   "version": "2.7.5"
  }
 },
 "nbformat": 4,
 "nbformat_minor": 0
}
