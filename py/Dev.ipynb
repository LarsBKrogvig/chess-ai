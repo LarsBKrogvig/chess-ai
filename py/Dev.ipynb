{
 "cells": [
  {
   "cell_type": "code",
   "execution_count": 3,
   "metadata": {
    "collapsed": false
   },
   "outputs": [],
   "source": [
    "import sys\n",
    "import os\n",
    "import json\n",
    "import chess\n",
    "from time import sleep, time\n",
    "from datetime import datetime, timedelta\n",
    "from random import random, choice\n",
    "from IPython.display import clear_output\n",
    "\n",
    "# Bots\n",
    "import random_bot\n",
    "#import final_bot\n",
    "import basic_bot_1_11\n",
    "\n",
    "dev = True\n",
    "\n",
    "### Functions\n",
    "\n",
    "def print_time(to_print, \n",
    "               t=0, \n",
    "               clear=True):\n",
    "    if clear: clear_output()\n",
    "    print to_print, '\\n'\n",
    "    sys.stdout.flush()\n",
    "    sleep(t)\n",
    "    pass\n",
    "\n",
    "def get_config(board, me):\n",
    "    cmap = {\n",
    "        ( 'WIN', 'WHITE'):  'W_win',\n",
    "        ('DRAW', 'WHITE'): 'W_draw',\n",
    "        ('LOSE', 'WHITE'): 'W_lose',\n",
    "        ( 'WIN', 'BLACK'):  'B_win',\n",
    "        ('DRAW', 'BLACK'): 'B_draw',\n",
    "        ('LOSE', 'BLACK'): 'B_lose'}\n",
    "\n",
    "    result = None\n",
    "    if board.is_checkmate():\n",
    "        if not board.turn == me:\n",
    "            result = 'WIN'\n",
    "        else:\n",
    "            result = 'LOSE'\n",
    "    else:\n",
    "        result = 'DRAW'\n",
    "\n",
    "    return cmap[(result,turn_color[me])]\n",
    "\n",
    "def get_status(board):\n",
    "    result = \"\"\n",
    "    if board.is_game_over():\n",
    "        if board.is_checkmate(): result = 'Checkmate! ' + turn_color[not board.turn] + ' wins'\n",
    "        if board.is_stalemate(): result = 'Stalemate! DRAW'\n",
    "        if board.is_insufficient_material(): result = 'Insufficient material. DRAW', \n",
    "        if board.is_seventyfive_moves(): result = 'Seventyfive moves without capture or pawn move. DRAW'\n",
    "        if board.is_fivefold_repetition(): result = 'Fivefold repetition. DRAW'\n",
    "    else:\n",
    "        result = turn_color[board.turn], 'to move'\n",
    "    return result\n",
    "\n",
    "### Parameters\n",
    "\n",
    "turn_color = {\n",
    "    True:'WHITE',\n",
    "    False:'BLACK',\n",
    "    None: None\n",
    "}\n",
    "\n",
    "def new_state():\n",
    "    state = {\n",
    "        'played_since': '',\n",
    "        'game_desc':    '',\n",
    "        'fen':          '',\n",
    "        'turn_desc':    '',\n",
    "        'W_win':         0,\n",
    "        'W_draw':        0,\n",
    "        'W_lose':        0,\n",
    "        'B_win':         0,\n",
    "        'B_draw':        0,\n",
    "        'B_lose' :       0\n",
    "    }\n",
    "    return state\n",
    "\n",
    "def init_state():\n",
    "    state = None\n",
    "    if os.path.exists('../html/state'):\n",
    "        with open('../html/state', 'r') as f:\n",
    "            state = json.loads(f.read())\n",
    "    if not state:\n",
    "        state = new_state()\n",
    "    return state\n",
    "\n",
    "def write_state(state):\n",
    "    with open('../html/state', 'w') as f:\n",
    "        f.write(json.dumps(state, indent=4))\n",
    "    pass\n",
    "\n",
    "state = init_state()\n",
    "\n",
    "# The Arena\n",
    "me_bot = basic_bot_1_11\n",
    "he_bot = random_bot\n",
    "players = [chess.WHITE, chess.BLACK]\n",
    "min_turn_time = 0.1\n",
    "\n",
    "# In[ ]:\n",
    "if not state['played_since']:\n",
    "    state['played_since'] = (datetime.fromtimestamp(time())+timedelta(hours=1)).strftime('%Y-%m-%d %H:%M:%S')\n"
   ]
  },
  {
   "cell_type": "code",
   "execution_count": 7,
   "metadata": {
    "collapsed": true
   },
   "outputs": [],
   "source": [
    "r = 0.05\n",
    "\n",
    "value_piece = {\n",
    "    chess.PAWN:   1.0,\n",
    "    chess.KNIGHT: 2.95,\n",
    "    chess.BISHOP: 3.05,\n",
    "    chess.ROOK:   5.0,\n",
    "    chess.QUEEN:  9.0,\n",
    "    chess.KING:   0.0\n",
    "}\n",
    "\n",
    "# Position weight\n",
    "wp = [[1,1,1,1,1,1,1,1],\n",
    "      [1,2,2,2,2,2,2,1],\n",
    "      [1,2,3,3,3,3,2,1],\n",
    "      [1,2,3,5,5,3,2,1],\n",
    "      [1,2,3,5,5,3,2,1],\n",
    "      [1,2,3,3,3,3,2,1],\n",
    "      [1,2,2,2,2,2,2,1],\n",
    "      [1,1,1,1,1,1,1,1]]\n",
    "WP = sum(map(sum, wp))\n",
    "\n",
    "# Attack weight (for black)\n",
    "wa0 = [[3,4,4,4,4,4,4,3],\n",
    "       [3,4,4,4,4,4,4,3],\n",
    "       [2,3,3,3,3,3,3,2],\n",
    "       [2,3,3,3,3,3,3,2],\n",
    "       [1,2,2,2,2,2,2,1],\n",
    "       [1,2,2,2,2,2,2,1],\n",
    "       [1,1,1,1,1,1,1,1],\n",
    "       [1,1,1,1,1,1,1,1]]\n",
    "WA = sum(map(sum, wa0))\n",
    "wa = {}\n",
    "wa[chess.WHITE] = wa0[::-1]\n",
    "wa[chess.BLACK] = wa0\n",
    "\n",
    "\n",
    "square_weight = {'pos': {},\n",
    "                 'atk': {chess.WHITE: {},\n",
    "                         chess.BLACK: {}}\n",
    "                 }\n",
    "for i in xrange(8):\n",
    "    for j in xrange(8):\n",
    "        square_weight['pos'][chess.square(j,i)] = wp[i][j]/float(WP)\n",
    "        square_weight['atk'][chess.WHITE][chess.square(j,i)] = wa[chess.WHITE][i][j]/float(WA)\n",
    "        square_weight['atk'][chess.BLACK][chess.square(j,i)] = wa[chess.BLACK][i][j]/float(WA)\n",
    "\n",
    "        \n",
    "def eval_player(board, player):\n",
    "    \n",
    "    score_material = 0\n",
    "    score_presence = 0\n",
    "    score_attacks = 0\n",
    "    \n",
    "    piece_squares = chess.SquareSet()\n",
    "    attack_squares = chess.SquareSet()\n",
    "    for piece_type in xrange(1,7):\n",
    "        piece_type_squares = board.pieces(piece_type, player)\n",
    "        piece_squares = piece_squares.union(piece_type_squares)\n",
    "        for square in piece_type_squares:\n",
    "            \n",
    "            score_material += value_piece[piece_type]\n",
    "            score_presence += square_weight['pos'][square]\n",
    "            attack_squares = attack_squares.union(board.attacks(square))\n",
    "    \n",
    "    attack_squares = attack_squares.difference(piece_squares)\n",
    "\n",
    "    score_attacks = reduce(lambda x,y: x+square_weight['atk'][player][y], attack_squares, 0)\n",
    "\n",
    "    return (score_material, (1-r)*score_presence, r*score_attacks)"
   ]
  },
  {
   "cell_type": "code",
   "execution_count": 11,
   "metadata": {
    "collapsed": false
   },
   "outputs": [
    {
     "name": "stdout",
     "output_type": "stream",
     "text": [
      ". n b q k b n r\n",
      ". p p . p p . p\n",
      ". . . p . . p .\n",
      "p . . . . . . .\n",
      ". . B P P . . .\n",
      ". . . . . . . .\n",
      "P P P . . P P P\n",
      "R N B Q K . N R \n",
      "\n",
      "(39.00,0.22984,0.01757)\n",
      "(34.00,0.16855,0.00912)\n",
      "{u'B_draw': 2, u'fen': '1nbqkbnr/1ppppp1p/6p1/p7/2BPP3/8/PPP2PPP/RNBQK1NR b KQk - 1 4', u'W_win': 4, u'played_since': u'2015-12-19 22:33:51', u'turn_desc': '5 - His move, BLACK', u'B_lose': 0, u'W_lose': 0, u'B_win': 6, u'W_draw': 3, u'game_desc': 'Bot plays WHITE, BLACK is random\\n'}\n"
     ]
    },
    {
     "ename": "KeyboardInterrupt",
     "evalue": "",
     "output_type": "error",
     "traceback": [
      "\u001b[0;31m---------------------------------------------------------------------------\u001b[0m",
      "\u001b[0;31mKeyboardInterrupt\u001b[0m                         Traceback (most recent call last)",
      "\u001b[0;32m<ipython-input-11-897062a80113>\u001b[0m in \u001b[0;36m<module>\u001b[0;34m()\u001b[0m\n\u001b[1;32m     19\u001b[0m         \u001b[0;32mif\u001b[0m \u001b[0mboard\u001b[0m\u001b[0;34m.\u001b[0m\u001b[0mturn\u001b[0m \u001b[0;34m==\u001b[0m \u001b[0mme\u001b[0m\u001b[0;34m:\u001b[0m\u001b[0;34m\u001b[0m\u001b[0m\n\u001b[1;32m     20\u001b[0m             \u001b[0mstate\u001b[0m\u001b[0;34m[\u001b[0m\u001b[0;34m'turn_desc'\u001b[0m\u001b[0;34m]\u001b[0m \u001b[0;34m=\u001b[0m \u001b[0mstr\u001b[0m\u001b[0;34m(\u001b[0m\u001b[0;36m1\u001b[0m\u001b[0;34m+\u001b[0m\u001b[0mturn\u001b[0m\u001b[0;34m/\u001b[0m\u001b[0;36m2\u001b[0m\u001b[0;34m)\u001b[0m \u001b[0;34m+\u001b[0m \u001b[0;34m' - My move, '\u001b[0m \u001b[0;34m+\u001b[0m \u001b[0mturn_color\u001b[0m\u001b[0;34m[\u001b[0m\u001b[0mboard\u001b[0m\u001b[0;34m.\u001b[0m\u001b[0mturn\u001b[0m\u001b[0;34m]\u001b[0m\u001b[0;34m\u001b[0m\u001b[0m\n\u001b[0;32m---> 21\u001b[0;31m             \u001b[0mmove\u001b[0m \u001b[0;34m=\u001b[0m \u001b[0mme_bot\u001b[0m\u001b[0;34m.\u001b[0m\u001b[0mmove\u001b[0m\u001b[0;34m(\u001b[0m\u001b[0mboard\u001b[0m\u001b[0;34m)\u001b[0m \u001b[0;31m# My move!\u001b[0m\u001b[0;34m\u001b[0m\u001b[0m\n\u001b[0m\u001b[1;32m     22\u001b[0m         \u001b[0;32melse\u001b[0m\u001b[0;34m:\u001b[0m\u001b[0;34m\u001b[0m\u001b[0m\n\u001b[1;32m     23\u001b[0m             \u001b[0mstate\u001b[0m\u001b[0;34m[\u001b[0m\u001b[0;34m'turn_desc'\u001b[0m\u001b[0;34m]\u001b[0m \u001b[0;34m=\u001b[0m \u001b[0mstr\u001b[0m\u001b[0;34m(\u001b[0m\u001b[0;36m1\u001b[0m\u001b[0;34m+\u001b[0m\u001b[0mturn\u001b[0m\u001b[0;34m/\u001b[0m\u001b[0;36m2\u001b[0m\u001b[0;34m)\u001b[0m \u001b[0;34m+\u001b[0m \u001b[0;34m' - His move, '\u001b[0m \u001b[0;34m+\u001b[0m \u001b[0mturn_color\u001b[0m\u001b[0;34m[\u001b[0m\u001b[0mboard\u001b[0m\u001b[0;34m.\u001b[0m\u001b[0mturn\u001b[0m\u001b[0;34m]\u001b[0m\u001b[0;34m\u001b[0m\u001b[0m\n",
      "\u001b[0;32m/Users/LarsBK/Documents/GitHub/chess-ai/py/basic_bot_1_11.py\u001b[0m in \u001b[0;36mmove\u001b[0;34m(board, show)\u001b[0m\n\u001b[1;32m    122\u001b[0m \u001b[0;34m\u001b[0m\u001b[0m\n\u001b[1;32m    123\u001b[0m \u001b[0;32mdef\u001b[0m \u001b[0mmove\u001b[0m\u001b[0;34m(\u001b[0m\u001b[0mboard\u001b[0m\u001b[0;34m,\u001b[0m \u001b[0mshow\u001b[0m\u001b[0;34m=\u001b[0m\u001b[0mFalse\u001b[0m\u001b[0;34m)\u001b[0m\u001b[0;34m:\u001b[0m\u001b[0;34m\u001b[0m\u001b[0m\n\u001b[0;32m--> 124\u001b[0;31m     \u001b[0mtree\u001b[0m \u001b[0;34m=\u001b[0m \u001b[0mbuild_tree\u001b[0m\u001b[0;34m(\u001b[0m\u001b[0mboard\u001b[0m\u001b[0;34m)\u001b[0m\u001b[0;34m\u001b[0m\u001b[0m\n\u001b[0m\u001b[1;32m    125\u001b[0m     \u001b[0mresult\u001b[0m \u001b[0;34m=\u001b[0m \u001b[0mparse_tree\u001b[0m\u001b[0;34m(\u001b[0m\u001b[0mtree\u001b[0m\u001b[0;34m)\u001b[0m\u001b[0;34m\u001b[0m\u001b[0m\n\u001b[1;32m    126\u001b[0m     \u001b[0;32mreturn\u001b[0m \u001b[0mresult\u001b[0m\u001b[0;34m[\u001b[0m\u001b[0;36m0\u001b[0m\u001b[0;34m]\u001b[0m\u001b[0;34m.\u001b[0m\u001b[0mpop\u001b[0m\u001b[0;34m(\u001b[0m\u001b[0;36m0\u001b[0m\u001b[0;34m)\u001b[0m\u001b[0;34m\u001b[0m\u001b[0m\n",
      "\u001b[0;32m/Users/LarsBK/Documents/GitHub/chess-ai/py/basic_bot_1_11.py\u001b[0m in \u001b[0;36mbuild_tree\u001b[0;34m(root_board, halfmove_depth, limit_halfmove_depth)\u001b[0m\n\u001b[1;32m    138\u001b[0m         return {root_board.fen(): [(move, build_tree(board_push(root_board, move),\n\u001b[1;32m    139\u001b[0m                                                      \u001b[0mhalfmove_depth\u001b[0m\u001b[0;34m=\u001b[0m\u001b[0mhalfmove_depth\u001b[0m\u001b[0;34m+\u001b[0m\u001b[0;36m1\u001b[0m\u001b[0;34m,\u001b[0m\u001b[0;34m\u001b[0m\u001b[0m\n\u001b[0;32m--> 140\u001b[0;31m                                                      limit_halfmove_depth=limit_halfmove_depth)) for move in root_board.legal_moves]}\n\u001b[0m\u001b[1;32m    141\u001b[0m     \u001b[0;32mpass\u001b[0m\u001b[0;34m\u001b[0m\u001b[0m\n\u001b[1;32m    142\u001b[0m \u001b[0;34m\u001b[0m\u001b[0m\n",
      "\u001b[0;32m/Users/LarsBK/Documents/GitHub/chess-ai/py/basic_bot_1_11.py\u001b[0m in \u001b[0;36mbuild_tree\u001b[0;34m(root_board, halfmove_depth, limit_halfmove_depth)\u001b[0m\n\u001b[1;32m    134\u001b[0m \u001b[0;34m\u001b[0m\u001b[0m\n\u001b[1;32m    135\u001b[0m     \u001b[0;32mif\u001b[0m \u001b[0mhalfmove_depth\u001b[0m \u001b[0;34m==\u001b[0m \u001b[0mlimit_halfmove_depth\u001b[0m\u001b[0;34m:\u001b[0m\u001b[0;34m\u001b[0m\u001b[0m\n\u001b[0;32m--> 136\u001b[0;31m         \u001b[0;32mreturn\u001b[0m \u001b[0;34m{\u001b[0m\u001b[0mroot_board\u001b[0m\u001b[0;34m.\u001b[0m\u001b[0mfen\u001b[0m\u001b[0;34m(\u001b[0m\u001b[0;34m)\u001b[0m\u001b[0;34m:\u001b[0m \u001b[0;34m[\u001b[0m\u001b[0;34m(\u001b[0m\u001b[0mmove\u001b[0m\u001b[0;34m,\u001b[0m \u001b[0mboard_push\u001b[0m\u001b[0;34m(\u001b[0m\u001b[0mroot_board\u001b[0m\u001b[0;34m,\u001b[0m \u001b[0mmove\u001b[0m\u001b[0;34m)\u001b[0m\u001b[0;34m.\u001b[0m\u001b[0mfen\u001b[0m\u001b[0;34m(\u001b[0m\u001b[0;34m)\u001b[0m\u001b[0;34m)\u001b[0m \u001b[0;32mfor\u001b[0m \u001b[0mmove\u001b[0m \u001b[0;32min\u001b[0m \u001b[0mroot_board\u001b[0m\u001b[0;34m.\u001b[0m\u001b[0mlegal_moves\u001b[0m\u001b[0;34m]\u001b[0m\u001b[0;34m}\u001b[0m\u001b[0;34m\u001b[0m\u001b[0m\n\u001b[0m\u001b[1;32m    137\u001b[0m     \u001b[0;32melse\u001b[0m\u001b[0;34m:\u001b[0m\u001b[0;34m\u001b[0m\u001b[0m\n\u001b[1;32m    138\u001b[0m         return {root_board.fen(): [(move, build_tree(board_push(root_board, move),\n",
      "\u001b[0;32m/usr/local/lib/python2.7/site-packages/chess/__init__.pyc\u001b[0m in \u001b[0;36mfen\u001b[0;34m(self)\u001b[0m\n\u001b[1;32m   1785\u001b[0m         \"\"\"\n\u001b[1;32m   1786\u001b[0m         \u001b[0mfen\u001b[0m \u001b[0;34m=\u001b[0m \u001b[0;34m[\u001b[0m\u001b[0;34m]\u001b[0m\u001b[0;34m\u001b[0m\u001b[0m\n\u001b[0;32m-> 1787\u001b[0;31m         \u001b[0mfen\u001b[0m\u001b[0;34m.\u001b[0m\u001b[0mappend\u001b[0m\u001b[0;34m(\u001b[0m\u001b[0mself\u001b[0m\u001b[0;34m.\u001b[0m\u001b[0mboard_fen\u001b[0m\u001b[0;34m(\u001b[0m\u001b[0;34m)\u001b[0m\u001b[0;34m)\u001b[0m\u001b[0;34m\u001b[0m\u001b[0m\n\u001b[0m\u001b[1;32m   1788\u001b[0m         \u001b[0mfen\u001b[0m\u001b[0;34m.\u001b[0m\u001b[0mappend\u001b[0m\u001b[0;34m(\u001b[0m\u001b[0;34m\"w\"\u001b[0m \u001b[0;32mif\u001b[0m \u001b[0mself\u001b[0m\u001b[0;34m.\u001b[0m\u001b[0mturn\u001b[0m \u001b[0;34m==\u001b[0m \u001b[0mWHITE\u001b[0m \u001b[0;32melse\u001b[0m \u001b[0;34m\"b\"\u001b[0m\u001b[0;34m)\u001b[0m\u001b[0;34m\u001b[0m\u001b[0m\n\u001b[1;32m   1789\u001b[0m         \u001b[0mfen\u001b[0m\u001b[0;34m.\u001b[0m\u001b[0mappend\u001b[0m\u001b[0;34m(\u001b[0m\u001b[0mself\u001b[0m\u001b[0;34m.\u001b[0m\u001b[0mcastling_xfen\u001b[0m\u001b[0;34m(\u001b[0m\u001b[0;34m)\u001b[0m\u001b[0;34m)\u001b[0m\u001b[0;34m\u001b[0m\u001b[0m\n",
      "\u001b[0;32m/usr/local/lib/python2.7/site-packages/chess/__init__.pyc\u001b[0m in \u001b[0;36mboard_fen\u001b[0;34m(self)\u001b[0m\n\u001b[1;32m   1683\u001b[0m \u001b[0;34m\u001b[0m\u001b[0m\n\u001b[1;32m   1684\u001b[0m         \u001b[0;32mfor\u001b[0m \u001b[0msquare\u001b[0m \u001b[0;32min\u001b[0m \u001b[0mSQUARES_180\u001b[0m\u001b[0;34m:\u001b[0m\u001b[0;34m\u001b[0m\u001b[0m\n\u001b[0;32m-> 1685\u001b[0;31m             \u001b[0mpiece\u001b[0m \u001b[0;34m=\u001b[0m \u001b[0mself\u001b[0m\u001b[0;34m.\u001b[0m\u001b[0mpiece_at\u001b[0m\u001b[0;34m(\u001b[0m\u001b[0msquare\u001b[0m\u001b[0;34m)\u001b[0m\u001b[0;34m\u001b[0m\u001b[0m\n\u001b[0m\u001b[1;32m   1686\u001b[0m \u001b[0;34m\u001b[0m\u001b[0m\n\u001b[1;32m   1687\u001b[0m             \u001b[0;32mif\u001b[0m \u001b[0;32mnot\u001b[0m \u001b[0mpiece\u001b[0m\u001b[0;34m:\u001b[0m\u001b[0;34m\u001b[0m\u001b[0m\n",
      "\u001b[0;32m/usr/local/lib/python2.7/site-packages/chess/__init__.pyc\u001b[0m in \u001b[0;36mpiece_at\u001b[0;34m(self, square)\u001b[0m\n\u001b[1;32m    929\u001b[0m         \u001b[0;32mif\u001b[0m \u001b[0mpiece_type\u001b[0m\u001b[0;34m:\u001b[0m\u001b[0;34m\u001b[0m\u001b[0m\n\u001b[1;32m    930\u001b[0m             \u001b[0mmask\u001b[0m \u001b[0;34m=\u001b[0m \u001b[0mBB_SQUARES\u001b[0m\u001b[0;34m[\u001b[0m\u001b[0msquare\u001b[0m\u001b[0;34m]\u001b[0m\u001b[0;34m\u001b[0m\u001b[0m\n\u001b[0;32m--> 931\u001b[0;31m             \u001b[0mcolor\u001b[0m \u001b[0;34m=\u001b[0m \u001b[0mbool\u001b[0m\u001b[0;34m(\u001b[0m\u001b[0mself\u001b[0m\u001b[0;34m.\u001b[0m\u001b[0moccupied_co\u001b[0m\u001b[0;34m[\u001b[0m\u001b[0mWHITE\u001b[0m\u001b[0;34m]\u001b[0m \u001b[0;34m&\u001b[0m \u001b[0mmask\u001b[0m\u001b[0;34m)\u001b[0m\u001b[0;34m\u001b[0m\u001b[0m\n\u001b[0m\u001b[1;32m    932\u001b[0m             \u001b[0;32mreturn\u001b[0m \u001b[0mPiece\u001b[0m\u001b[0;34m(\u001b[0m\u001b[0mpiece_type\u001b[0m\u001b[0;34m,\u001b[0m \u001b[0mcolor\u001b[0m\u001b[0;34m)\u001b[0m\u001b[0;34m\u001b[0m\u001b[0m\n\u001b[1;32m    933\u001b[0m \u001b[0;34m\u001b[0m\u001b[0m\n",
      "\u001b[0;31mKeyboardInterrupt\u001b[0m: "
     ]
    }
   ],
   "source": [
    "while True:\n",
    "    \n",
    "    board = chess.Board() # Set up the board\n",
    "    me    = choice(players)  # My color\n",
    "    turn  = 0\n",
    "\n",
    "    cpu_time = {chess.WHITE: 0, chess.BLACK: 0}\n",
    "\n",
    "    state['game_desc'] = 'Bot plays ' + turn_color[me] + ', ' + turn_color[not me] + ' is random\\n'\n",
    "        \n",
    "    while not board.is_game_over():\n",
    "        \n",
    "        t0 = time()\n",
    "        turn+=1\n",
    "\n",
    "        state['fen'] = board.fen()\n",
    "        \n",
    "        tt = time()\n",
    "        if board.turn == me:\n",
    "            state['turn_desc'] = str(1+turn/2) + ' - My move, ' + turn_color[board.turn]\n",
    "            move = me_bot.move(board) # My move!\n",
    "        else:\n",
    "            state['turn_desc'] = str(1+turn/2) + ' - His move, ' + turn_color[board.turn]\n",
    "            move = he_bot.move(board) # My opponent's move\n",
    "        ct = time() - tt\n",
    "        cpu_time[board.turn] += ct\n",
    "\n",
    "        board.push(move) # Make the move\n",
    "        \n",
    "        if dev: \n",
    "            print_time(board)\n",
    "            print \"(%.2f,%.5f,%.5f)\" % eval_player(board, chess.WHITE)\n",
    "            print \"(%.2f,%.5f,%.5f)\" % eval_player(board, chess.BLACK)\n",
    "            print state\n",
    "            sys.stdout.flush()\n",
    "\n",
    "        t1 = time()\n",
    "        if t1-t0 < min_turn_time:\n",
    "            sleep(min_turn_time - (t1-t0))\n",
    "\n",
    "        write_state(state)\n",
    "    \n",
    "    state['fen'] = board.fen()\n",
    "    state['game_desc'] = get_status(board)\n",
    "\n",
    "    result = None\n",
    "    if board.is_checkmate(): \n",
    "        result = turn_color[not board.turn]\n",
    "\n",
    "    state[get_config(board, me)] += 1\n",
    "\n",
    "    write_state(state)\n",
    "\n",
    "    #log_entry = {\n",
    "    #    'move_stack': ','.join([str(move) for move in board.move_stack]),\n",
    "    #    'winner': turn_color[not board.turn] if board.is_checkmate() else None,\n",
    "    #    'WHITE': {\n",
    "    #        'bot': me_bot.name() if me == chess.WHITE else he_bot.name(),\n",
    "    #        'cpu_time': cpu_time[chess.WHITE]\n",
    "    #        },\n",
    "    #    'BLACK': {\n",
    "    #        'bot': me_bot.name() if me == chess.BLACK else he_bot.name(),\n",
    "    #        'cpu_time': cpu_time[chess.BLACK]\n",
    "    #        },\n",
    "    #    }\n",
    "    #\n",
    "    #with open('log_entry') as f:\n",
    "    #    f.write(json.dumps(log_entry, separators=(',', ': ')))\n",
    "    #    write_command = 's3cmd put log_entry %i s3://larsbk/%s/%s/%s/%i' % (i,\n",
    "    #                                                                        log_entry[winner],\n",
    "    #                                                                        log_entry[not loser],\n",
    "    #                                                                        color,i)\n",
    "    #\n",
    "    #\n",
    "    #write_command = 's3cmd put'\n",
    "    #    \n",
    "    sleep(8)\n",
    "\n"
   ]
  },
  {
   "cell_type": "code",
   "execution_count": null,
   "metadata": {
    "collapsed": true
   },
   "outputs": [],
   "source": [
    "board = chess.Board()"
   ]
  },
  {
   "cell_type": "code",
   "execution_count": 3,
   "metadata": {
    "collapsed": true
   },
   "outputs": [],
   "source": [
    "pieces = board.pieces(2, chess.WHITE)"
   ]
  },
  {
   "cell_type": "code",
   "execution_count": 11,
   "metadata": {
    "collapsed": false
   },
   "outputs": [
    {
     "name": "stdout",
     "output_type": "stream",
     "text": [
      ". . . . . . . .\n",
      ". . . . . . . .\n",
      ". . . . . . . .\n",
      ". . . . . . . .\n",
      ". . . . . . . .\n",
      ". . . . . . . .\n",
      ". . . . . . . .\n",
      ". 1 . . . . 1 .\n"
     ]
    }
   ],
   "source": [
    "print pieces"
   ]
  },
  {
   "cell_type": "code",
   "execution_count": 18,
   "metadata": {
    "collapsed": false
   },
   "outputs": [
    {
     "data": {
      "text/plain": [
       "SquareSet(0b1000010)"
      ]
     },
     "execution_count": 18,
     "metadata": {},
     "output_type": "execute_result"
    }
   ],
   "source": [
    "pieces"
   ]
  },
  {
   "cell_type": "code",
   "execution_count": 20,
   "metadata": {
    "collapsed": false
   },
   "outputs": [
    {
     "name": "stdout",
     "output_type": "stream",
     "text": [
      ". . . . . . . .\n",
      ". . . . . . . .\n",
      ". . . . . . . .\n",
      ". . . . . . . .\n",
      ". . . . . . . .\n",
      "1 . 1 . . 1 . 1\n",
      ". . . 1 1 . . .\n",
      ". . . . . . . .\n"
     ]
    }
   ],
   "source": [
    "S = chess.SquareSet()\n",
    "for s in pieces:\n",
    "    S = S.union(board.attacks(s))\n",
    "print S"
   ]
  },
  {
   "cell_type": "code",
   "execution_count": 21,
   "metadata": {
    "collapsed": true
   },
   "outputs": [],
   "source": [
    "w = [[1,1,1,1,1,1,1,1],\n",
    "     [1,2,2,2,2,2,2,1],\n",
    "     [1,2,3,3,3,3,2,1],\n",
    "     [1,2,3,5,5,3,2,1],\n",
    "     [1,2,3,5,5,3,2,1],\n",
    "     [1,2,3,3,3,3,2,1],\n",
    "     [1,2,2,2,2,2,2,1],\n",
    "     [1,1,1,1,1,1,1,1]]"
   ]
  },
  {
   "cell_type": "code",
   "execution_count": 29,
   "metadata": {
    "collapsed": true
   },
   "outputs": [],
   "source": [
    "import time"
   ]
  },
  {
   "cell_type": "code",
   "execution_count": 37,
   "metadata": {
    "collapsed": false
   },
   "outputs": [
    {
     "name": "stdout",
     "output_type": "stream",
     "text": [
      "124\n",
      "0.000204086303711\n",
      "124\n",
      "0.000207901000977\n",
      "124\n",
      "0.000157117843628\n"
     ]
    }
   ],
   "source": [
    "t = time.time()\n",
    "print sum([sum(s) for s in w])\n",
    "print time.time()-t\n",
    "t = time.time()\n",
    "print reduce(lambda x,y: x+sum(y), w, 0)\n",
    "print time.time()-t\n",
    "t = time.time()\n",
    "print sum(map(sum, w))\n",
    "print time.time()-t"
   ]
  },
  {
   "cell_type": "code",
   "execution_count": 56,
   "metadata": {
    "collapsed": false
   },
   "outputs": [
    {
     "name": "stdout",
     "output_type": "stream",
     "text": [
      ". . . . . . . .\n",
      ". . . . . . . .\n",
      ". . . . . . . .\n",
      ". . . . . . . .\n",
      ". . . . . . . .\n",
      "1 1 1 1 1 1 1 1\n",
      ". . . . . . . .\n",
      ". . . . . . . .\n"
     ]
    }
   ],
   "source": [
    "square_importance = {}\n",
    "for i,r in enumerate(w):\n",
    "    for j,c in enumerate(r):\n",
    "        square_importance[chess.square(i,j)] = c\n",
    "\n",
    "value_piece = {\n",
    "    chess.PAWN:   1.0,\n",
    "    chess.KNIGHT: 2.9,\n",
    "    chess.BISHOP: 3.1,\n",
    "    chess.ROOK:   5.0,\n",
    "    chess.QUEEN:  9.0,\n",
    "    chess.KING:   0.0\n",
    "}\n",
    "score_material = 0\n",
    "score_presence = 0\n",
    "\n",
    "piece_squares = chess.SquareSet()\n",
    "attack_sqares = chess.SquareSet()\n",
    "for piece_type in xrange(1,7):\n",
    "    piece_type_squares = board.pieces(piece_type, chess.WHITE)\n",
    "    piece_squares = piece_squares.union(piece_type_squares)\n",
    "    for square in piece_type_squares:\n",
    "        \n",
    "        score_material += value_piece[piece_type]\n",
    "        score_presence += square_importance[square]\n",
    "        attack_squares = attack_squares.union(board.attacks(square))\n",
    "        \n",
    "attack_squares = attack_squares.difference(piece_squares)\n",
    "\n",
    "print attack_squares"
   ]
  },
  {
   "cell_type": "code",
   "execution_count": 54,
   "metadata": {
    "collapsed": false
   },
   "outputs": [
    {
     "name": "stdout",
     "output_type": "stream",
     "text": [
      "38\n"
     ]
    }
   ],
   "source": [
    "atk = 0\n",
    "for s in attack_squares:\n",
    "    atk += square_importance[s]\n",
    "print atk\n",
    "    "
   ]
  },
  {
   "cell_type": "code",
   "execution_count": 51,
   "metadata": {
    "collapsed": false
   },
   "outputs": [
    {
     "data": {
      "text/plain": [
       "38"
      ]
     },
     "execution_count": 51,
     "metadata": {},
     "output_type": "execute_result"
    }
   ],
   "source": [
    "reduce(lambda x,y: x+square_importance[y], attack_squares, 0)"
   ]
  },
  {
   "cell_type": "code",
   "execution_count": 50,
   "metadata": {
    "collapsed": false
   },
   "outputs": [
    {
     "data": {
      "text/plain": [
       "SquareSet(0b111111111111111101111110)"
      ]
     },
     "execution_count": 50,
     "metadata": {},
     "output_type": "execute_result"
    }
   ],
   "source": [
    "attack_squares"
   ]
  },
  {
   "cell_type": "code",
   "execution_count": null,
   "metadata": {
    "collapsed": true
   },
   "outputs": [],
   "source": []
  }
 ],
 "metadata": {
  "kernelspec": {
   "display_name": "Python 2",
   "language": "python",
   "name": "python2"
  },
  "language_info": {
   "codemirror_mode": {
    "name": "ipython",
    "version": 2
   },
   "file_extension": ".py",
   "mimetype": "text/x-python",
   "name": "python",
   "nbconvert_exporter": "python",
   "pygments_lexer": "ipython2",
   "version": "2.7.5"
  }
 },
 "nbformat": 4,
 "nbformat_minor": 0
}
